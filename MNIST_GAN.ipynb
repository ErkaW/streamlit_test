{
  "nbformat": 4,
  "nbformat_minor": 0,
  "metadata": {
    "colab": {
      "provenance": [],
      "gpuType": "T4"
    },
    "kernelspec": {
      "name": "python3",
      "display_name": "Python 3"
    },
    "language_info": {
      "name": "python"
    },
    "accelerator": "GPU"
  },
  "cells": [
    {
      "cell_type": "code",
      "execution_count": 1,
      "metadata": {
        "colab": {
          "base_uri": "https://localhost:8080/"
        },
        "id": "XH0kaXMOE6Es",
        "outputId": "0ee8d6b5-650c-4e62-89d8-f802c0916361"
      },
      "outputs": [
        {
          "output_type": "stream",
          "name": "stdout",
          "text": [
            "Requirement already satisfied: torch in /usr/local/lib/python3.11/dist-packages (2.6.0+cu124)\n",
            "Requirement already satisfied: torchvision in /usr/local/lib/python3.11/dist-packages (0.21.0+cu124)\n",
            "Requirement already satisfied: filelock in /usr/local/lib/python3.11/dist-packages (from torch) (3.18.0)\n",
            "Requirement already satisfied: typing-extensions>=4.10.0 in /usr/local/lib/python3.11/dist-packages (from torch) (4.14.0)\n",
            "Requirement already satisfied: networkx in /usr/local/lib/python3.11/dist-packages (from torch) (3.5)\n",
            "Requirement already satisfied: jinja2 in /usr/local/lib/python3.11/dist-packages (from torch) (3.1.6)\n",
            "Requirement already satisfied: fsspec in /usr/local/lib/python3.11/dist-packages (from torch) (2025.3.2)\n",
            "Requirement already satisfied: nvidia-cuda-nvrtc-cu12==12.4.127 in /usr/local/lib/python3.11/dist-packages (from torch) (12.4.127)\n",
            "Requirement already satisfied: nvidia-cuda-runtime-cu12==12.4.127 in /usr/local/lib/python3.11/dist-packages (from torch) (12.4.127)\n",
            "Requirement already satisfied: nvidia-cuda-cupti-cu12==12.4.127 in /usr/local/lib/python3.11/dist-packages (from torch) (12.4.127)\n",
            "Requirement already satisfied: nvidia-cudnn-cu12==9.1.0.70 in /usr/local/lib/python3.11/dist-packages (from torch) (9.1.0.70)\n",
            "Requirement already satisfied: nvidia-cublas-cu12==12.4.5.8 in /usr/local/lib/python3.11/dist-packages (from torch) (12.4.5.8)\n",
            "Requirement already satisfied: nvidia-cufft-cu12==11.2.1.3 in /usr/local/lib/python3.11/dist-packages (from torch) (11.2.1.3)\n",
            "Requirement already satisfied: nvidia-curand-cu12==10.3.5.147 in /usr/local/lib/python3.11/dist-packages (from torch) (10.3.5.147)\n",
            "Requirement already satisfied: nvidia-cusolver-cu12==11.6.1.9 in /usr/local/lib/python3.11/dist-packages (from torch) (11.6.1.9)\n",
            "Requirement already satisfied: nvidia-cusparse-cu12==12.3.1.170 in /usr/local/lib/python3.11/dist-packages (from torch) (12.3.1.170)\n",
            "Requirement already satisfied: nvidia-cusparselt-cu12==0.6.2 in /usr/local/lib/python3.11/dist-packages (from torch) (0.6.2)\n",
            "Requirement already satisfied: nvidia-nccl-cu12==2.21.5 in /usr/local/lib/python3.11/dist-packages (from torch) (2.21.5)\n",
            "Requirement already satisfied: nvidia-nvtx-cu12==12.4.127 in /usr/local/lib/python3.11/dist-packages (from torch) (12.4.127)\n",
            "Requirement already satisfied: nvidia-nvjitlink-cu12==12.4.127 in /usr/local/lib/python3.11/dist-packages (from torch) (12.4.127)\n",
            "Requirement already satisfied: triton==3.2.0 in /usr/local/lib/python3.11/dist-packages (from torch) (3.2.0)\n",
            "Requirement already satisfied: sympy==1.13.1 in /usr/local/lib/python3.11/dist-packages (from torch) (1.13.1)\n",
            "Requirement already satisfied: mpmath<1.4,>=1.1.0 in /usr/local/lib/python3.11/dist-packages (from sympy==1.13.1->torch) (1.3.0)\n",
            "Requirement already satisfied: numpy in /usr/local/lib/python3.11/dist-packages (from torchvision) (2.0.2)\n",
            "Requirement already satisfied: pillow!=8.3.*,>=5.3.0 in /usr/local/lib/python3.11/dist-packages (from torchvision) (11.2.1)\n",
            "Requirement already satisfied: MarkupSafe>=2.0 in /usr/local/lib/python3.11/dist-packages (from jinja2->torch) (3.0.2)\n"
          ]
        }
      ],
      "source": [
        "# --- Setup ---\n",
        "!pip install torch torchvision"
      ]
    },
    {
      "cell_type": "code",
      "source": [
        "import torch\n",
        "import torch.nn as nn\n",
        "import torch.optim as optim\n",
        "from torchvision import datasets, transforms\n",
        "from torch.utils.data import DataLoader\n",
        "import os"
      ],
      "metadata": {
        "id": "elh68iexF2TG"
      },
      "execution_count": 2,
      "outputs": []
    },
    {
      "cell_type": "code",
      "source": [
        "# --- Hyperparams ---\n",
        "batch_size = 128\n",
        "epochs = 30\n",
        "z_dim = 100\n",
        "lr = 0.0002\n",
        "device = torch.device(\"cuda\" if torch.cuda.is_available() else \"cpu\")"
      ],
      "metadata": {
        "id": "cOs1lc_bF5MG"
      },
      "execution_count": 3,
      "outputs": []
    },
    {
      "cell_type": "code",
      "source": [
        "# --- Data Loader ---\n",
        "transform = transforms.Compose([\n",
        "    transforms.ToTensor(),\n",
        "    transforms.Normalize((0.5,), (0.5,))\n",
        "])\n",
        "train_data = datasets.MNIST(root='./data', train=True, download=True, transform=transform)\n",
        "train_loader = DataLoader(train_data, batch_size=batch_size, shuffle=True)"
      ],
      "metadata": {
        "id": "LniDr8coF-Ri"
      },
      "execution_count": 4,
      "outputs": []
    },
    {
      "cell_type": "code",
      "source": [
        "# --- Generator ---\n",
        "class Generator(nn.Module):\n",
        "    def __init__(self):\n",
        "        super().__init__()\n",
        "        self.label_emb = nn.Embedding(10, 10)\n",
        "        self.model = nn.Sequential(\n",
        "            nn.Linear(z_dim + 10, 256),\n",
        "            nn.ReLU(True),\n",
        "            nn.Linear(256, 512),\n",
        "            nn.ReLU(True),\n",
        "            nn.Linear(512, 1024),\n",
        "            nn.ReLU(True),\n",
        "            nn.Linear(1024, 784),\n",
        "            nn.Tanh()\n",
        "        )\n",
        "    def forward(self, z, labels):\n",
        "        c = self.label_emb(labels)\n",
        "        x = torch.cat([z, c], dim=1)\n",
        "        return self.model(x).view(-1, 1, 28, 28)"
      ],
      "metadata": {
        "id": "G7E1NNeYGCnH"
      },
      "execution_count": 5,
      "outputs": []
    },
    {
      "cell_type": "code",
      "source": [
        "# --- Discriminator ---\n",
        "class Discriminator(nn.Module):\n",
        "    def __init__(self):\n",
        "        super().__init__()\n",
        "        self.label_emb = nn.Embedding(10, 10)\n",
        "        self.model = nn.Sequential(\n",
        "            nn.Linear(784 + 10, 512),\n",
        "            nn.LeakyReLU(0.2),\n",
        "            nn.Linear(512, 256),\n",
        "            nn.LeakyReLU(0.2),\n",
        "            nn.Linear(256, 1),\n",
        "            nn.Sigmoid()\n",
        "        )\n",
        "    def forward(self, img, labels):\n",
        "        c = self.label_emb(labels)\n",
        "        x = torch.cat([img.view(img.size(0), -1), c], dim=1)\n",
        "        return self.model(x)"
      ],
      "metadata": {
        "id": "ldSEDU9hGFKt"
      },
      "execution_count": 6,
      "outputs": []
    },
    {
      "cell_type": "code",
      "source": [
        "# --- Initialize ---\n",
        "G = Generator().to(device)\n",
        "D = Discriminator().to(device)\n",
        "loss_fn = nn.BCELoss()\n",
        "opt_G = optim.Adam(G.parameters(), lr=lr, betas=(0.5, 0.999))\n",
        "opt_D = optim.Adam(D.parameters(), lr=lr, betas=(0.5, 0.999))"
      ],
      "metadata": {
        "id": "-cDpZFvpGPXj"
      },
      "execution_count": 7,
      "outputs": []
    },
    {
      "cell_type": "code",
      "source": [
        "# --- Train ---\n",
        "for epoch in range(epochs):\n",
        "    for imgs, labels in train_loader:\n",
        "        imgs, labels = imgs.to(device), labels.to(device)\n",
        "        b = imgs.size(0)\n",
        "\n",
        "        real = torch.ones(b, 1).to(device)\n",
        "        fake = torch.zeros(b, 1).to(device)\n",
        "\n",
        "        # --- Train Discriminator ---\n",
        "        z = torch.randn(b, z_dim).to(device)\n",
        "        gen_labels = torch.randint(0, 10, (b,)).to(device)\n",
        "        gen_imgs = G(z, gen_labels)\n",
        "\n",
        "        real_loss = loss_fn(D(imgs, labels), real)\n",
        "        fake_loss = loss_fn(D(gen_imgs.detach(), gen_labels), fake)\n",
        "        d_loss = real_loss + fake_loss\n",
        "\n",
        "        opt_D.zero_grad()\n",
        "        d_loss.backward()\n",
        "        opt_D.step()\n",
        "\n",
        "        # --- Train Generator ---\n",
        "        z = torch.randn(b, z_dim).to(device)\n",
        "        gen_labels = torch.randint(0, 10, (b,)).to(device)\n",
        "        gen_imgs = G(z, gen_labels)\n",
        "        g_loss = loss_fn(D(gen_imgs, gen_labels), real)\n",
        "\n",
        "        opt_G.zero_grad()\n",
        "        g_loss.backward()\n",
        "        opt_G.step()\n",
        "\n",
        "    print(f\"[{epoch+1}/{epochs}] D Loss: {d_loss.item():.4f} | G Loss: {g_loss.item():.4f}\")"
      ],
      "metadata": {
        "colab": {
          "base_uri": "https://localhost:8080/"
        },
        "id": "czrF8S40GThV",
        "outputId": "1416b2f6-3ece-4bd3-9a5f-340c56b4028d"
      },
      "execution_count": 8,
      "outputs": [
        {
          "output_type": "stream",
          "name": "stdout",
          "text": [
            "[1/30] D Loss: 0.9765 | G Loss: 1.7571\n",
            "[2/30] D Loss: 0.2814 | G Loss: 6.2829\n",
            "[3/30] D Loss: 0.4120 | G Loss: 3.5094\n",
            "[4/30] D Loss: 0.2844 | G Loss: 3.2379\n",
            "[5/30] D Loss: 0.2006 | G Loss: 4.2493\n",
            "[6/30] D Loss: 0.1793 | G Loss: 4.3382\n",
            "[7/30] D Loss: 0.3601 | G Loss: 3.6300\n",
            "[8/30] D Loss: 0.6493 | G Loss: 1.3287\n",
            "[9/30] D Loss: 0.3703 | G Loss: 2.7347\n",
            "[10/30] D Loss: 0.4665 | G Loss: 2.3637\n",
            "[11/30] D Loss: 0.3839 | G Loss: 2.8111\n",
            "[12/30] D Loss: 0.0134 | G Loss: 5.0802\n",
            "[13/30] D Loss: 0.0056 | G Loss: 6.2151\n",
            "[14/30] D Loss: 0.0021 | G Loss: 7.4487\n",
            "[15/30] D Loss: 0.0010 | G Loss: 7.6134\n",
            "[16/30] D Loss: 0.0012 | G Loss: 7.6192\n",
            "[17/30] D Loss: 0.0004 | G Loss: 9.1256\n",
            "[18/30] D Loss: 0.0003 | G Loss: 9.8049\n",
            "[19/30] D Loss: 0.0001 | G Loss: 10.2498\n",
            "[20/30] D Loss: 0.0000 | G Loss: 10.7263\n",
            "[21/30] D Loss: 0.0015 | G Loss: 6.9172\n",
            "[22/30] D Loss: 0.0002 | G Loss: 9.1520\n",
            "[23/30] D Loss: 0.0000 | G Loss: 10.2884\n",
            "[24/30] D Loss: 0.0003 | G Loss: 8.4296\n",
            "[25/30] D Loss: 0.0004 | G Loss: 8.8055\n",
            "[26/30] D Loss: 0.0000 | G Loss: 10.5733\n",
            "[27/30] D Loss: 0.0000 | G Loss: 11.6193\n",
            "[28/30] D Loss: 0.0000 | G Loss: 11.5394\n",
            "[29/30] D Loss: 0.0000 | G Loss: 12.2138\n",
            "[30/30] D Loss: 0.0000 | G Loss: 12.5957\n"
          ]
        }
      ]
    },
    {
      "cell_type": "code",
      "source": [
        "# --- Save model ---\n",
        "os.makedirs(\"models\", exist_ok=True)\n",
        "torch.save(G.state_dict(), \"models/generator.pth\")\n",
        "print(\"Model saved!\")"
      ],
      "metadata": {
        "colab": {
          "base_uri": "https://localhost:8080/"
        },
        "id": "hYF_CQQHGWRL",
        "outputId": "fbb7a339-eb68-43e7-ffab-53aa09d3b920"
      },
      "execution_count": 9,
      "outputs": [
        {
          "output_type": "stream",
          "name": "stdout",
          "text": [
            "Model saved!\n"
          ]
        }
      ]
    }
  ]
}